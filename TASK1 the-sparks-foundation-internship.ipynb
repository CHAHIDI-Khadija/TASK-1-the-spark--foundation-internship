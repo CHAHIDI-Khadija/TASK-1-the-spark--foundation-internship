{
 "cells": [
  {
   "cell_type": "markdown",
   "id": "910ebb0d",
   "metadata": {},
   "source": [
    " #  Author : CHAHIDI Khadija"
   ]
  },
  {
   "cell_type": "markdown",
   "id": "b02ea242",
   "metadata": {},
   "source": [
    "<h1 style=\"font-size:3rem;color:red;\">TASK 1 : Prediction using   Supervised ML</h1>\n",
    "    "
   ]
  },
  {
   "cell_type": "raw",
   "id": "8586186c",
   "metadata": {},
   "source": [
    " it's a simple linear regression tasks as it involves 2 variables,in this regression task we will predict the percentage of a student  based on the no of study hours ."
   ]
  },
  {
   "cell_type": "markdown",
   "id": "8899c3a8",
   "metadata": {},
   "source": [
    "#  Importing all libraries required"
   ]
  },
  {
   "cell_type": "code",
   "execution_count": 38,
   "id": "681e7b12",
   "metadata": {},
   "outputs": [],
   "source": [
    "import pandas as pd\n",
    "import numpy as np\n",
    "import matplotlib.pyplot as plt\n",
    "from sklearn.model_selection import train_test_split,cross_val_score,KFold\n",
    "from sklearn.linear_model import LinearRegression\n",
    "from sklearn.metrics import mean_absolute_error,mean_squared_error"
   ]
  },
  {
   "cell_type": "markdown",
   "id": "c4d5db0a",
   "metadata": {},
   "source": [
    "#  Importing& reading the data"
   ]
  },
  {
   "cell_type": "code",
   "execution_count": 4,
   "id": "fc5962c3",
   "metadata": {},
   "outputs": [
    {
     "data": {
      "text/html": [
       "<div>\n",
       "<style scoped>\n",
       "    .dataframe tbody tr th:only-of-type {\n",
       "        vertical-align: middle;\n",
       "    }\n",
       "\n",
       "    .dataframe tbody tr th {\n",
       "        vertical-align: top;\n",
       "    }\n",
       "\n",
       "    .dataframe thead th {\n",
       "        text-align: right;\n",
       "    }\n",
       "</style>\n",
       "<table border=\"1\" class=\"dataframe\">\n",
       "  <thead>\n",
       "    <tr style=\"text-align: right;\">\n",
       "      <th></th>\n",
       "      <th>Hours</th>\n",
       "      <th>Scores</th>\n",
       "    </tr>\n",
       "  </thead>\n",
       "  <tbody>\n",
       "    <tr>\n",
       "      <th>0</th>\n",
       "      <td>2.5</td>\n",
       "      <td>21</td>\n",
       "    </tr>\n",
       "    <tr>\n",
       "      <th>1</th>\n",
       "      <td>5.1</td>\n",
       "      <td>47</td>\n",
       "    </tr>\n",
       "    <tr>\n",
       "      <th>2</th>\n",
       "      <td>3.2</td>\n",
       "      <td>27</td>\n",
       "    </tr>\n",
       "    <tr>\n",
       "      <th>3</th>\n",
       "      <td>8.5</td>\n",
       "      <td>75</td>\n",
       "    </tr>\n",
       "    <tr>\n",
       "      <th>4</th>\n",
       "      <td>3.5</td>\n",
       "      <td>30</td>\n",
       "    </tr>\n",
       "  </tbody>\n",
       "</table>\n",
       "</div>"
      ],
      "text/plain": [
       "   Hours  Scores\n",
       "0    2.5      21\n",
       "1    5.1      47\n",
       "2    3.2      27\n",
       "3    8.5      75\n",
       "4    3.5      30"
      ]
     },
     "execution_count": 4,
     "metadata": {},
     "output_type": "execute_result"
    }
   ],
   "source": [
    "#data url\n",
    "url=\"http://bit.ly/w-data\"\n",
    "# creating a DataFrame\n",
    "df=pd.read_csv(url)\n",
    "#reading the data\n",
    "df.head()"
   ]
  },
  {
   "cell_type": "markdown",
   "id": "2db479a3",
   "metadata": {},
   "source": [
    "# Data Description"
   ]
  },
  {
   "cell_type": "code",
   "execution_count": 5,
   "id": "2c36061e",
   "metadata": {},
   "outputs": [
    {
     "data": {
      "text/html": [
       "<div>\n",
       "<style scoped>\n",
       "    .dataframe tbody tr th:only-of-type {\n",
       "        vertical-align: middle;\n",
       "    }\n",
       "\n",
       "    .dataframe tbody tr th {\n",
       "        vertical-align: top;\n",
       "    }\n",
       "\n",
       "    .dataframe thead th {\n",
       "        text-align: right;\n",
       "    }\n",
       "</style>\n",
       "<table border=\"1\" class=\"dataframe\">\n",
       "  <thead>\n",
       "    <tr style=\"text-align: right;\">\n",
       "      <th></th>\n",
       "      <th>Hours</th>\n",
       "      <th>Scores</th>\n",
       "    </tr>\n",
       "  </thead>\n",
       "  <tbody>\n",
       "    <tr>\n",
       "      <th>count</th>\n",
       "      <td>25.000000</td>\n",
       "      <td>25.000000</td>\n",
       "    </tr>\n",
       "    <tr>\n",
       "      <th>mean</th>\n",
       "      <td>5.012000</td>\n",
       "      <td>51.480000</td>\n",
       "    </tr>\n",
       "    <tr>\n",
       "      <th>std</th>\n",
       "      <td>2.525094</td>\n",
       "      <td>25.286887</td>\n",
       "    </tr>\n",
       "    <tr>\n",
       "      <th>min</th>\n",
       "      <td>1.100000</td>\n",
       "      <td>17.000000</td>\n",
       "    </tr>\n",
       "    <tr>\n",
       "      <th>25%</th>\n",
       "      <td>2.700000</td>\n",
       "      <td>30.000000</td>\n",
       "    </tr>\n",
       "    <tr>\n",
       "      <th>50%</th>\n",
       "      <td>4.800000</td>\n",
       "      <td>47.000000</td>\n",
       "    </tr>\n",
       "    <tr>\n",
       "      <th>75%</th>\n",
       "      <td>7.400000</td>\n",
       "      <td>75.000000</td>\n",
       "    </tr>\n",
       "    <tr>\n",
       "      <th>max</th>\n",
       "      <td>9.200000</td>\n",
       "      <td>95.000000</td>\n",
       "    </tr>\n",
       "  </tbody>\n",
       "</table>\n",
       "</div>"
      ],
      "text/plain": [
       "           Hours     Scores\n",
       "count  25.000000  25.000000\n",
       "mean    5.012000  51.480000\n",
       "std     2.525094  25.286887\n",
       "min     1.100000  17.000000\n",
       "25%     2.700000  30.000000\n",
       "50%     4.800000  47.000000\n",
       "75%     7.400000  75.000000\n",
       "max     9.200000  95.000000"
      ]
     },
     "execution_count": 5,
     "metadata": {},
     "output_type": "execute_result"
    }
   ],
   "source": [
    "df.describe()"
   ]
  },
  {
   "cell_type": "code",
   "execution_count": 7,
   "id": "dcf615f4",
   "metadata": {},
   "outputs": [
    {
     "data": {
      "text/plain": [
       "(25, 2)"
      ]
     },
     "execution_count": 7,
     "metadata": {},
     "output_type": "execute_result"
    }
   ],
   "source": [
    "df.shape"
   ]
  },
  {
   "cell_type": "code",
   "execution_count": 9,
   "id": "3cf7a911",
   "metadata": {},
   "outputs": [
    {
     "name": "stdout",
     "output_type": "stream",
     "text": [
      "numbre of duplicate rows: 0\n"
     ]
    }
   ],
   "source": [
    "print(\"numbre of duplicate rows:\" ,df.duplicated().sum())"
   ]
  },
  {
   "cell_type": "markdown",
   "id": "26dcdeb9",
   "metadata": {},
   "source": [
    "# Plotting data"
   ]
  },
  {
   "cell_type": "code",
   "execution_count": 27,
   "id": "434d8864",
   "metadata": {},
   "outputs": [
    {
     "data": {
      "image/png": "[encoded data removed]",
      "text/plain": [
       "<Figure size 640x480 with 1 Axes>"
      ]
     },
     "metadata": {},
     "output_type": "display_data"
    }
   ],
   "source": [
    "df.plot(x=\"Hours\",y=\"Scores\",style=\".\")\n",
    "plt.title(\"hours vs scors\")\n",
    "plt.xlabel(\"hours studied\")\n",
    "plt.ylabel(\"scores\")\n",
    "plt.show()"
   ]
  },
  {
   "cell_type": "markdown",
   "id": "728bb8a3",
   "metadata": {},
   "source": [
    "# Preparing data"
   ]
  },
  {
   "cell_type": "code",
   "execution_count": 51,
   "id": "497ac748",
   "metadata": {},
   "outputs": [
    {
     "name": "stdout",
     "output_type": "stream",
     "text": [
      "shape of x :  (25, 1)\n",
      "shape of y:  (25,)\n"
     ]
    }
   ],
   "source": [
    "X = df[\"Hours\"].values.reshape(-1, 1)\n",
    "y = df[\"Scores\"].values\n",
    "print(\"shape of x : \", X.shape)\n",
    "print(\"shape of y: \", y.shape)"
   ]
  },
  {
   "cell_type": "markdown",
   "id": "45b93da0",
   "metadata": {},
   "source": [
    "# Splitting data into training and test data"
   ]
  },
  {
   "cell_type": "code",
   "execution_count": 31,
   "id": "e915c99f",
   "metadata": {},
   "outputs": [
    {
     "name": "stdout",
     "output_type": "stream",
     "text": [
      "Splitting the data into training and testing is done \n"
     ]
    },
    {
     "data": {
      "text/plain": [
       "((18, 1), (18,), (7, 1), (7,))"
      ]
     },
     "execution_count": 31,
     "metadata": {},
     "output_type": "execute_result"
    }
   ],
   "source": [
    "X_train, X_test, y_train, y_test = train_test_split(X, y, random_state=42)\n",
    "print(\"Splitting the data into training and testing is done \")\n",
    "X_train.shape, y_train.shape, X_test.shape, y_test.shape"
   ]
  },
  {
   "cell_type": "markdown",
   "id": "7069c50c",
   "metadata": {},
   "source": [
    "# Fitting the linear regression model"
   ]
  },
  {
   "cell_type": "code",
   "execution_count": 52,
   "id": "dd6c5cab",
   "metadata": {},
   "outputs": [
    {
     "name": "stdout",
     "output_type": "stream",
     "text": [
      "Fitting the linear regression model is done \n"
     ]
    }
   ],
   "source": [
    "#create the model\n",
    "reg=LinearRegression()\n",
    "#fit the model to the data\n",
    "reg.fit(X_train,y_train)\n",
    "#make predictions\n",
    "y_pred = reg.predict(X_test)\n",
    "print(\"Fitting the linear regression model is done \")"
   ]
  },
  {
   "cell_type": "markdown",
   "id": "6d3c7027",
   "metadata": {},
   "source": [
    "# Calculating R-Squared and RMSE(the square root of the mean squared error)"
   ]
  },
  {
   "cell_type": "code",
   "execution_count": 49,
   "id": "d733993a",
   "metadata": {},
   "outputs": [
    {
     "name": "stdout",
     "output_type": "stream",
     "text": [
      "R_Squared is:  0.9553509219739938\n",
      "the RMSE is : 4.849370684387328\n",
      "Mean Absolute error : 4.425394675156182\n"
     ]
    }
   ],
   "source": [
    "r_sqrd=reg.score(X_test,y_test)\n",
    "rmse=mean_squared_error(y_test,y_pred,squared=False)\n",
    "m_a_e=mean_absolute_error(y_test, y_pred)\n",
    "print(\"R_Squared is: \",r_sqrd)\n",
    "print(\"the RMSE is :\",rmse)\n",
    "print(\"Mean Absolute error :\" ,m_a_e )"
   ]
  },
  {
   "cell_type": "markdown",
   "id": "94aed273",
   "metadata": {},
   "source": [
    "# Applying cross validation using scikit-learn to evaluate the models performance"
   ]
  },
  {
   "cell_type": "code",
   "execution_count": 42,
   "id": "3b56d040",
   "metadata": {},
   "outputs": [
    {
     "name": "stdout",
     "output_type": "stream",
     "text": [
      "cross validation is done \n",
      "R-Squared from the cross validation : 0.9351805772795737\n",
      "the 95% confidence interval :  [0.90305062 0.95454346]\n",
      "Model Performance is  : 94.52657496267838 %\n"
     ]
    }
   ],
   "source": [
    "kf = KFold(n_splits=4, shuffle=True, random_state=42)\n",
    "cv_results = cross_val_score(reg, X, y, cv=kf)\n",
    "mean_r_squared =  np.mean(cv_results)\n",
    "print(\"R-Squared from the cross validation :\", mean_r_squared)\n",
    "print(\"Standard deviation is :\", np.std(cv_results))\n",
    "print(\"the 95% confidence interval : \", np.quantile(cv_results,[0.025,0.975]))\n",
    "print(\"Model Performance is  :\", abs(r_sqrd+mean_r_squared)/2*100 , \"%\")"
   ]
  },
  {
   "cell_type": "markdown",
   "id": "fd2a1458",
   "metadata": {},
   "source": [
    "# Plotting the regression line"
   ]
  },
  {
   "cell_type": "code",
   "execution_count": 54,
   "id": "4ecba093",
   "metadata": {},
   "outputs": [
    {
     "data": {
      "image/png": "[encoded data removed]",
      "text/plain": [
       "<Figure size 640x480 with 1 Axes>"
      ]
     },
     "metadata": {},
     "output_type": "display_data"
    }
   ],
   "source": [
    "# regression line equation\n",
    "line =reg.coef_ * X + reg.intercept_ \n",
    "#create line plot\n",
    "plt.figure()\n",
    "plt.scatter(X, y)\n",
    "plt.plot(X, line, color='red')\n",
    "plt.xlabel('hours studied')\n",
    "plt.ylabel('scores')\n",
    "plt.title('hours vs scores')\n",
    "plt.show()"
   ]
  },
  {
   "cell_type": "markdown",
   "id": "2999f6ae",
   "metadata": {},
   "source": [
    "# What will be predicted score if a student studies 9.25 hour/day?"
   ]
  },
  {
   "cell_type": "code",
   "execution_count": 50,
   "id": "dc603665",
   "metadata": {},
   "outputs": [
    {
     "name": "stdout",
     "output_type": "stream",
     "text": [
      "The score predicted for 9.25 Hours is: 92.33571987331146 %\n"
     ]
    }
   ],
   "source": [
    "# Predicting\n",
    "hrs = 9.25\n",
    "prediction = reg.predict(np.array([[hrs]]))\n",
    "\n",
    "# Printing the result\n",
    "print(\"The score predicted for 9.25 Hours is:\" ,prediction[0] ,\"%\")"
   ]
  },
  {
   "cell_type": "code",
   "execution_count": null,
   "id": "482de5bb",
   "metadata": {},
   "outputs": [],
   "source": []
  }
 ],
 "metadata": {
  "kernelspec": {
   "display_name": "Python 3 (ipykernel)",
   "language": "python",
   "name": "python3"
  },
  "language_info": {
   "codemirror_mode": {
    "name": "ipython",
    "version": 3
   },
   "file_extension": ".py",
   "mimetype": "text/x-python",
   "name": "python",
   "nbconvert_exporter": "python",
   "pygments_lexer": "ipython3",
   "version": "3.10.7"
  }
 },
 "nbformat": 4,
 "nbformat_minor": 5
}
